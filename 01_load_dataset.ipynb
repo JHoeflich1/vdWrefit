{
 "cells": [
  {
   "cell_type": "code",
   "execution_count": 3,
   "id": "d2959662",
   "metadata": {},
   "outputs": [
    {
     "name": "stderr",
     "output_type": "stream",
     "text": [
      "Warning on use of the timeseries module: If the inherent timescales of the system are long compared to those being analyzed, this statistical inefficiency may be an underestimate.  The estimate presumes the use of many statistically independent samples.  Tests should be performed to assess whether this condition is satisfied.   Be cautious in the interpretation of the data.\n",
      "\n",
      "****** PyMBAR will use 64-bit JAX! *******\n",
      "* JAX is currently set to 32-bit bitsize *\n",
      "* which is its default.                  *\n",
      "*                                        *\n",
      "* PyMBAR requires 64-bit mode and WILL   *\n",
      "* enable JAX's 64-bit mode when called.  *\n",
      "*                                        *\n",
      "* This MAY cause problems with other     *\n",
      "* Uses of JAX in the same code.          *\n",
      "******************************************\n",
      "\n"
     ]
    }
   ],
   "source": [
    "from openff.evaluator.datasets.thermoml import ThermoMLDataSet\n"
   ]
  },
  {
   "cell_type": "code",
   "execution_count": 4,
   "id": "5d2ddaf8",
   "metadata": {},
   "outputs": [],
   "source": [
    "data_set = ThermoMLDataSet.from_doi(\n",
    "    \"10.1021/je1013476\",\n",
    ")"
   ]
  },
  {
   "cell_type": "code",
   "execution_count": 5,
   "id": "ea8de11d",
   "metadata": {},
   "outputs": [
    {
     "data": {
      "text/plain": [
       "271"
      ]
     },
     "execution_count": 5,
     "metadata": {},
     "output_type": "execute_result"
    }
   ],
   "source": [
    "len(data_set)"
   ]
  },
  {
   "cell_type": "code",
   "execution_count": 6,
   "id": "443eccb1",
   "metadata": {},
   "outputs": [
    {
     "data": {
      "text/plain": [
       "251"
      ]
     },
     "execution_count": 6,
     "metadata": {},
     "output_type": "execute_result"
    }
   ],
   "source": [
    "len(data_set.substances)"
   ]
  },
  {
   "cell_type": "code",
   "execution_count": 7,
   "id": "bd5a6c21",
   "metadata": {},
   "outputs": [
    {
     "name": "stdout",
     "output_type": "stream",
     "text": [
      "{'Density', 'EnthalpyOfMixing'}\n"
     ]
    }
   ],
   "source": [
    "print(data_set.property_types)"
   ]
  },
  {
   "cell_type": "code",
   "execution_count": 8,
   "id": "1fb62472",
   "metadata": {},
   "outputs": [
    {
     "name": "stdout",
     "output_type": "stream",
     "text": [
      "{'Density'}\n"
     ]
    }
   ],
   "source": [
    "from openff.evaluator.datasets.curation.components.filtering import (\n",
    "    FilterByPropertyTypes,\n",
    "    FilterByPropertyTypesSchema,\n",
    ")\n",
    "\n",
    "data_set = FilterByPropertyTypes.apply(\n",
    "    data_set, FilterByPropertyTypesSchema(property_types=[\"Density\"])\n",
    ")\n",
    "\n",
    "print(data_set.property_types)"
   ]
  },
  {
   "cell_type": "code",
   "execution_count": 9,
   "id": "e4290a7a",
   "metadata": {},
   "outputs": [
    {
     "name": "stdout",
     "output_type": "stream",
     "text": [
      "There were 209 properties before filtering\n",
      "There are now 5 properties after filtering\n"
     ]
    }
   ],
   "source": [
    "from openff.evaluator.datasets.curation.components.filtering import (\n",
    "    FilterByPressure,\n",
    "    FilterByPressureSchema,\n",
    "    FilterByTemperature,\n",
    "    FilterByTemperatureSchema,\n",
    ")\n",
    "\n",
    "print(f\"There were {len(data_set)} properties before filtering\")\n",
    "\n",
    "# First filter by temperature.\n",
    "data_set = FilterByTemperature.apply(\n",
    "    data_set,\n",
    "    FilterByTemperatureSchema(minimum_temperature=298.0, maximum_temperature=298.2),\n",
    ")\n",
    "# and then by pressure\n",
    "data_set = FilterByPressure.apply(\n",
    "    data_set, FilterByPressureSchema(minimum_pressure=101.224, maximum_pressure=101.426)\n",
    ")\n",
    "\n",
    "print(f\"There are now {len(data_set)} properties after filtering\")"
   ]
  },
  {
   "cell_type": "code",
   "execution_count": 10,
   "id": "6008a010",
   "metadata": {},
   "outputs": [
    {
     "data": {
      "text/html": [
       "<div>\n",
       "<style scoped>\n",
       "    .dataframe tbody tr th:only-of-type {\n",
       "        vertical-align: middle;\n",
       "    }\n",
       "\n",
       "    .dataframe tbody tr th {\n",
       "        vertical-align: top;\n",
       "    }\n",
       "\n",
       "    .dataframe thead th {\n",
       "        text-align: right;\n",
       "    }\n",
       "</style>\n",
       "<table border=\"1\" class=\"dataframe\">\n",
       "  <thead>\n",
       "    <tr style=\"text-align: right;\">\n",
       "      <th></th>\n",
       "      <th>Temperature (K)</th>\n",
       "      <th>Pressure (kPa)</th>\n",
       "      <th>Component 1</th>\n",
       "      <th>Density Value (g / ml)</th>\n",
       "      <th>Source</th>\n",
       "    </tr>\n",
       "  </thead>\n",
       "  <tbody>\n",
       "    <tr>\n",
       "      <th>0</th>\n",
       "      <td>298.15</td>\n",
       "      <td>101.325</td>\n",
       "      <td>CCOC(=O)OCC</td>\n",
       "      <td>0.96915</td>\n",
       "      <td>10.1021/je1013476</td>\n",
       "    </tr>\n",
       "    <tr>\n",
       "      <th>1</th>\n",
       "      <td>298.15</td>\n",
       "      <td>101.325</td>\n",
       "      <td>CCO</td>\n",
       "      <td>0.78507</td>\n",
       "      <td>10.1021/je1013476</td>\n",
       "    </tr>\n",
       "    <tr>\n",
       "      <th>2</th>\n",
       "      <td>298.15</td>\n",
       "      <td>101.325</td>\n",
       "      <td>CCCO</td>\n",
       "      <td>0.79945</td>\n",
       "      <td>10.1021/je1013476</td>\n",
       "    </tr>\n",
       "    <tr>\n",
       "      <th>3</th>\n",
       "      <td>298.15</td>\n",
       "      <td>101.325</td>\n",
       "      <td>CCCCCO</td>\n",
       "      <td>0.81096</td>\n",
       "      <td>10.1021/je1013476</td>\n",
       "    </tr>\n",
       "    <tr>\n",
       "      <th>4</th>\n",
       "      <td>298.15</td>\n",
       "      <td>101.325</td>\n",
       "      <td>CCCCCCCCO</td>\n",
       "      <td>0.82174</td>\n",
       "      <td>10.1021/je1013476</td>\n",
       "    </tr>\n",
       "  </tbody>\n",
       "</table>\n",
       "</div>"
      ],
      "text/plain": [
       "   Temperature (K)  Pressure (kPa)  Component 1  Density Value (g / ml)  \\\n",
       "0           298.15         101.325  CCOC(=O)OCC                 0.96915   \n",
       "1           298.15         101.325          CCO                 0.78507   \n",
       "2           298.15         101.325         CCCO                 0.79945   \n",
       "3           298.15         101.325       CCCCCO                 0.81096   \n",
       "4           298.15         101.325    CCCCCCCCO                 0.82174   \n",
       "\n",
       "              Source  \n",
       "0  10.1021/je1013476  \n",
       "1  10.1021/je1013476  \n",
       "2  10.1021/je1013476  \n",
       "3  10.1021/je1013476  \n",
       "4  10.1021/je1013476  "
      ]
     },
     "execution_count": 10,
     "metadata": {},
     "output_type": "execute_result"
    }
   ],
   "source": [
    "pandas_data_set = data_set.to_pandas()\n",
    "pandas_data_set[\n",
    "    [\n",
    "        \"Temperature (K)\",\n",
    "        \"Pressure (kPa)\",\n",
    "        \"Component 1\",\n",
    "        \"Density Value (g / ml)\",\n",
    "        \"Source\",\n",
    "    ]\n",
    "].head()"
   ]
  },
  {
   "cell_type": "code",
   "execution_count": 11,
   "id": "53d79073",
   "metadata": {},
   "outputs": [],
   "source": [
    "## Now I want to add data \n"
   ]
  },
  {
   "cell_type": "code",
   "execution_count": 12,
   "id": "0326c4e8",
   "metadata": {},
   "outputs": [],
   "source": [
    "from openff.units import unit\n",
    "\n",
    "from openff.evaluator.thermodynamics import ThermodynamicState\n",
    "\n",
    "thermodynamic_state = ThermodynamicState(\n",
    "    temperature=298.15 * unit.kelvin, pressure=1.0 * unit.atmosphere\n",
    ")"
   ]
  },
  {
   "cell_type": "code",
   "execution_count": 13,
   "id": "ca810845",
   "metadata": {},
   "outputs": [],
   "source": [
    "from openff.evaluator.substances import Substance\n",
    "\n",
    "#alkanes \n",
    "hexane = Substance.from_components(\"C\" * 6)\n",
    "octane = Substance.from_components(\"C\" * 8)\n",
    "decane = Substance.from_components(\"C\" * 10)\n",
    "dodecane = Substance.from_components(\"C\" * 12) \n",
    "pentadecane = Substance.from_components(\"C\" * 15)\n",
    "hexadecane = Substance.from_components(\"C\" * 16)\n",
    "\n",
    "#alkenes \n",
    "one_hexene = Substance.from_components(\"CCCCC=C\")\n",
    "one_octene = Substance.from_components(\"CCCCCC=C\")\n",
    "one_octadecene = Substance.from_components(\"CCCCCCCCCCCCCCC=C\")"
   ]
  },
  {
   "cell_type": "code",
   "execution_count": 14,
   "id": "2f573df5",
   "metadata": {},
   "outputs": [],
   "source": [
    "from openff.evaluator.datasets import MeasurementSource\n",
    "\n",
    "#SOurces for Hvap \n",
    "source1 = MeasurementSource(doi=\"10.1021/je960089h\")\n",
    "source2= MeasurementSource(doi=\"10.1063/1.555942\")\n",
    "source3 = MeasurementSource(doi=\"10.1021/je00014a009\")\n",
    "source4 = MeasurementSource(doi=\"10.1021/j150544a029\")\n",
    "source5 = MeasurementSource(doi=\"10.1021/jo00334a040\")\n",
    "#sources for density \n",
    "source6 = MeasurementSource(doi=\"10.1016/j.molliq.2020.114366\")\n",
    "source7 = MeasurementSource(doi=\"10.1021/acs.jced.8b01135\")\n",
    "source8 = MeasurementSource(doi=\"10.1021/acs.jced.3c00290\")\n",
    "source9 = MeasurementSource(doi=\"10.1016/j.jct.2018.08.036\")\n",
    "# source10 = MeasurementSource(doi=\"10.1021/j150544a029\")   this is actually source 4\n",
    "source11 = MeasurementSource(doi=\"Sigma Aldrich\")"
   ]
  },
  {
   "cell_type": "code",
   "execution_count": 15,
   "id": "10b9e82d",
   "metadata": {},
   "outputs": [],
   "source": [
    "from openff.evaluator.datasets import PropertyPhase\n",
    "from openff.evaluator.properties import EnthalpyOfVaporization\n",
    "from openff.evaluator.properties import Density\n",
    "\n",
    "# Add the enthalpy of vaporization data to the data set\n",
    "# for hexane, octane, decane, dodecane, pentadecane, hexadecane\n",
    "# and one hexene, one octene, and one octadecene\n",
    "hexane_hvap = EnthalpyOfVaporization(\n",
    "    thermodynamic_state=thermodynamic_state,\n",
    "    phase=PropertyPhase.Liquid | PropertyPhase.Gas,\n",
    "    substance=hexane,\n",
    "    value=31.52 * unit.kilojoule / unit.mole,\n",
    "    uncertainty=0.028 * unit.kilojoule / unit.mole,\n",
    "    source=source2,\n",
    ")\n",
    "octane_hvap = EnthalpyOfVaporization(\n",
    "    thermodynamic_state=thermodynamic_state,\n",
    "    phase=PropertyPhase.Liquid | PropertyPhase.Gas,\n",
    "    substance=octane,\n",
    "    value=41.6 * unit.kilojoule / unit.mole,\n",
    "    uncertainty=0 * unit.kilojoule / unit.mole,\n",
    "    source=source1,\n",
    ")\n",
    "decane_hvap = EnthalpyOfVaporization(\n",
    "    thermodynamic_state=thermodynamic_state,\n",
    "    phase=PropertyPhase.Liquid | PropertyPhase.Gas,\n",
    "    substance=decane,\n",
    "    value=51.4 * unit.kilojoule / unit.mole,\n",
    "    uncertainty=0 * unit.kilojoule / unit.mole,\n",
    "    source=source3,\n",
    ")\n",
    "dodecane_hvap = EnthalpyOfVaporization(\n",
    "    thermodynamic_state=thermodynamic_state,\n",
    "    phase=PropertyPhase.Liquid | PropertyPhase.Gas,\n",
    "    substance=dodecane,\n",
    "    value=61.3 * unit.kilojoule / unit.mole,\n",
    "    uncertainty=0.3 * unit.kilojoule / unit.mole,\n",
    "    source=source1,\n",
    ")\n",
    "pentadecane_hvap = EnthalpyOfVaporization(\n",
    "    thermodynamic_state=thermodynamic_state,\n",
    "    phase=PropertyPhase.Liquid | PropertyPhase.Gas,\n",
    "    substance=pentadecane,\n",
    "    value=76.4 * unit.kilojoule / unit.mole,\n",
    "    uncertainty=0.3 * unit.kilojoule / unit.mole,\n",
    "    source=source1,\n",
    ")\n",
    "hexadecane_hvap = EnthalpyOfVaporization(\n",
    "    thermodynamic_state=thermodynamic_state,\n",
    "    phase=PropertyPhase.Liquid | PropertyPhase.Gas,\n",
    "    substance=hexadecane,\n",
    "    value=81.4 * unit.kilojoule / unit.mole,\n",
    "    uncertainty=0.3 * unit.kilojoule / unit.mole,\n",
    "    source=source3,\n",
    ")\n",
    "one_hexene_hvap = EnthalpyOfVaporization(\n",
    "    thermodynamic_state=thermodynamic_state,\n",
    "    phase=PropertyPhase.Liquid | PropertyPhase.Gas,\n",
    "    substance=one_hexene,\n",
    "    value=30.6 * unit.kilojoule / unit.mole,\n",
    "    uncertainty=0 * unit.kilojoule / unit.mole,\n",
    "    source=source4,\n",
    ")\n",
    "one_octene_hvap = EnthalpyOfVaporization(\n",
    "    thermodynamic_state=thermodynamic_state,\n",
    "    phase=PropertyPhase.Liquid | PropertyPhase.Gas,\n",
    "    substance=one_octene,\n",
    "    value=40.65 * unit.kilojoule / unit.mole,\n",
    "    uncertainty=0.3 * unit.kilojoule / unit.mole,\n",
    "    source=source5,\n",
    ")\n",
    "\n",
    "# Now add the density data to the data set\n",
    "hexane_density = Density(\n",
    "    thermodynamic_state=thermodynamic_state,\n",
    "    phase=PropertyPhase.Liquid,\n",
    "    substance=hexane,\n",
    "    value=0.6555 * unit.gram / unit.milliliter,\n",
    "    uncertainty=0.0003 * unit.gram / unit.milliliter,\n",
    "    source=source6,\n",
    ")\n",
    "dodecane_density = Density(\n",
    "    thermodynamic_state=thermodynamic_state,\n",
    "    phase=PropertyPhase.Liquid,\n",
    "    substance=dodecane,\n",
    "    value=0.7454 * unit.gram / unit.milliliter,\n",
    "    uncertainty=0.00017 * unit.gram / unit.milliliter,\n",
    "    source=source7,\n",
    ")\n",
    "pentadecane_density = Density(\n",
    "    thermodynamic_state=thermodynamic_state,\n",
    "    phase=PropertyPhase.Liquid,\n",
    "    substance=pentadecane,\n",
    "    value=0.765 * unit.gram / unit.milliliter,\n",
    "    uncertainty=0.00017 * unit.gram / unit.milliliter,\n",
    "    source=source8,\n",
    ")\n",
    "hexadecane_density = Density(\n",
    "    thermodynamic_state=thermodynamic_state,\n",
    "    phase=PropertyPhase.Liquid,\n",
    "    substance=hexadecane,\n",
    "    value=0.770 * unit.gram / unit.milliliter,\n",
    "    uncertainty=0.00036 * unit.gram / unit.milliliter,\n",
    "    source=source9,\n",
    ")\n",
    "one_hexene_density = Density(\n",
    "    thermodynamic_state=thermodynamic_state,\n",
    "    phase=PropertyPhase.Liquid,\n",
    "    substance=one_hexene,\n",
    "    value=0.66845 * unit.gram / unit.milliliter,\n",
    "    uncertainty=0 * unit.gram / unit.milliliter,\n",
    "    source=source4,\n",
    ")\n",
    "one_octadecene_density = Density(\n",
    "    thermodynamic_state=thermodynamic_state,\n",
    "    phase=PropertyPhase.Liquid,\n",
    "    substance=one_octadecene,\n",
    "    value=0.789 * unit.gram / unit.milliliter,\n",
    "    uncertainty=0 * unit.gram / unit.milliliter,\n",
    "    source=source11,\n",
    ")"
   ]
  },
  {
   "cell_type": "code",
   "execution_count": 16,
   "id": "fddada27",
   "metadata": {},
   "outputs": [
    {
     "name": "stdout",
     "output_type": "stream",
     "text": [
      "There are now 19 properties after adding new data\n"
     ]
    }
   ],
   "source": [
    "data_set.add_properties(hexane_hvap, octane_hvap, decane_hvap, dodecane_hvap, pentadecane_hvap, hexadecane_hvap, one_hexene_hvap, one_octene_hvap, hexane_density, dodecane_density, pentadecane_density, hexadecane_density, one_hexene_density, one_octadecene_density)\n",
    " \n",
    "print(f\"There are now {len(data_set)} properties after adding new data\")"
   ]
  },
  {
   "cell_type": "code",
   "execution_count": 17,
   "id": "98b2f4da",
   "metadata": {},
   "outputs": [
    {
     "name": "stdout",
     "output_type": "stream",
     "text": [
      "There are now 14 properties after filtering\n"
     ]
    }
   ],
   "source": [
    "from openff.evaluator.datasets.curation.components.filtering import (\n",
    "    FilterBySmiles,\n",
    "    FilterBySmilesSchema,\n",
    ")\n",
    "\n",
    "data_set = FilterBySmiles.apply(\n",
    "    data_set, FilterBySmilesSchema(smiles_to_exclude=[\"CCO\",\"CCCO\", \"CCCCCO\", \"CCOC(=O)OCC\",  \"CCCCCCCCO\"])\n",
    ")\n",
    "\n",
    "print(f\"There are now {len(data_set)} properties after filtering\")"
   ]
  },
  {
   "cell_type": "code",
   "execution_count": 18,
   "id": "36b4b507",
   "metadata": {},
   "outputs": [
    {
     "name": "stdout",
     "output_type": "stream",
     "text": [
      "                                  Id  Temperature (K)  Pressure (kPa)  \\\n",
      "0   f175dba1597046d3bde2061eb032fb60           298.15         101.325   \n",
      "1   a1ccc86c6a5f409e918cb41656357864           298.15         101.325   \n",
      "2   43b732a446074e548fa55f597b7c7f63           298.15         101.325   \n",
      "3   887e4a874dc543bdac9181f342af94ac           298.15         101.325   \n",
      "4   aa88cd2807134134a5a27bdb48ae6bf2           298.15         101.325   \n",
      "5   215277391f884801a3e4afee19e20fc7           298.15         101.325   \n",
      "6   641ff1031e444629acd6fd097ffcb9b5           298.15         101.325   \n",
      "7   e0f38f18c2f24f21be6b10deb095ebe5           298.15         101.325   \n",
      "8   387c88e226c246f081d3133689c14fdc           298.15         101.325   \n",
      "9   9b9fe9ba6f1c4a51a4812a904ac45023           298.15         101.325   \n",
      "10  843d82a359514fb9907bf1c7753c64ca           298.15         101.325   \n",
      "11  40d504c70bea4fcbb1bd1dbcc31fab5d           298.15         101.325   \n",
      "12  2d4777b7e86d47f28d6b40e55352ac86           298.15         101.325   \n",
      "13  b479c14e827c4d9b92568fe32fbe9996           298.15         101.325   \n",
      "\n",
      "           Phase  N Components        Component 1   Role 1  Mole Fraction 1  \\\n",
      "0   Liquid + Gas             1             CCCCCC  Solvent              1.0   \n",
      "1   Liquid + Gas             1           CCCCCCCC  Solvent              1.0   \n",
      "2   Liquid + Gas             1         CCCCCCCCCC  Solvent              1.0   \n",
      "3   Liquid + Gas             1       CCCCCCCCCCCC  Solvent              1.0   \n",
      "4   Liquid + Gas             1    CCCCCCCCCCCCCCC  Solvent              1.0   \n",
      "5   Liquid + Gas             1   CCCCCCCCCCCCCCCC  Solvent              1.0   \n",
      "6   Liquid + Gas             1            C=CCCCC  Solvent              1.0   \n",
      "7   Liquid + Gas             1           C=CCCCCC  Solvent              1.0   \n",
      "8         Liquid             1             CCCCCC  Solvent              1.0   \n",
      "9         Liquid             1       CCCCCCCCCCCC  Solvent              1.0   \n",
      "10        Liquid             1    CCCCCCCCCCCCCCC  Solvent              1.0   \n",
      "11        Liquid             1   CCCCCCCCCCCCCCCC  Solvent              1.0   \n",
      "12        Liquid             1            C=CCCCC  Solvent              1.0   \n",
      "13        Liquid             1  C=CCCCCCCCCCCCCCC  Solvent              1.0   \n",
      "\n",
      "   Exact Amount 1  Density Value (g / ml)  Density Uncertainty (g / ml)  \\\n",
      "0            None                     NaN                           NaN   \n",
      "1            None                     NaN                           NaN   \n",
      "2            None                     NaN                           NaN   \n",
      "3            None                     NaN                           NaN   \n",
      "4            None                     NaN                           NaN   \n",
      "5            None                     NaN                           NaN   \n",
      "6            None                     NaN                           NaN   \n",
      "7            None                     NaN                           NaN   \n",
      "8            None                 0.65550                       0.00030   \n",
      "9            None                 0.74540                       0.00017   \n",
      "10           None                 0.76500                       0.00017   \n",
      "11           None                 0.77000                       0.00036   \n",
      "12           None                 0.66845                       0.00000   \n",
      "13           None                 0.78900                       0.00000   \n",
      "\n",
      "    EnthalpyOfVaporization Value (kJ / mol)  \\\n",
      "0                                     31.52   \n",
      "1                                     41.60   \n",
      "2                                     51.40   \n",
      "3                                     61.30   \n",
      "4                                     76.40   \n",
      "5                                     81.40   \n",
      "6                                     30.60   \n",
      "7                                     40.65   \n",
      "8                                       NaN   \n",
      "9                                       NaN   \n",
      "10                                      NaN   \n",
      "11                                      NaN   \n",
      "12                                      NaN   \n",
      "13                                      NaN   \n",
      "\n",
      "    EnthalpyOfVaporization Uncertainty (kJ / mol)  \\\n",
      "0                                           0.028   \n",
      "1                                           0.000   \n",
      "2                                           0.000   \n",
      "3                                           0.300   \n",
      "4                                           0.300   \n",
      "5                                           0.300   \n",
      "6                                           0.000   \n",
      "7                                           0.300   \n",
      "8                                             NaN   \n",
      "9                                             NaN   \n",
      "10                                            NaN   \n",
      "11                                            NaN   \n",
      "12                                            NaN   \n",
      "13                                            NaN   \n",
      "\n",
      "                          Source  \n",
      "0               10.1063/1.555942  \n",
      "1              10.1021/je960089h  \n",
      "2            10.1021/je00014a009  \n",
      "3              10.1021/je960089h  \n",
      "4              10.1021/je960089h  \n",
      "5            10.1021/je00014a009  \n",
      "6            10.1021/j150544a029  \n",
      "7            10.1021/jo00334a040  \n",
      "8   10.1016/j.molliq.2020.114366  \n",
      "9       10.1021/acs.jced.8b01135  \n",
      "10      10.1021/acs.jced.3c00290  \n",
      "11     10.1016/j.jct.2018.08.036  \n",
      "12           10.1021/j150544a029  \n",
      "13                 Sigma Aldrich  \n"
     ]
    }
   ],
   "source": [
    "pandas_data_set = data_set.to_pandas()\n",
    "print(pandas_data_set)"
   ]
  },
  {
   "cell_type": "code",
   "execution_count": null,
   "id": "6e0886de",
   "metadata": {},
   "outputs": [],
   "source": [
    "data_set.json(\"filtered_data_set_alkanes.json\", format=True)"
   ]
  },
  {
   "cell_type": "code",
   "execution_count": 20,
   "id": "dcce2f55",
   "metadata": {},
   "outputs": [],
   "source": [
    "from openff.toolkit.topology import Molecule, Topology\n",
    "\n",
    "all_smiles = {\n",
    "    component.smiles\n",
    "    for substance in data_set.substances\n",
    "    for component in substance.components\n",
    "}"
   ]
  },
  {
   "cell_type": "code",
   "execution_count": null,
   "id": "c943d20e",
   "metadata": {},
   "outputs": [],
   "source": []
  }
 ],
 "metadata": {
  "kernelspec": {
   "display_name": "openff-evaluator",
   "language": "python",
   "name": "python3"
  },
  "language_info": {
   "codemirror_mode": {
    "name": "ipython",
    "version": 3
   },
   "file_extension": ".py",
   "mimetype": "text/x-python",
   "name": "python",
   "nbconvert_exporter": "python",
   "pygments_lexer": "ipython3",
   "version": "3.11.12"
  }
 },
 "nbformat": 4,
 "nbformat_minor": 5
}
